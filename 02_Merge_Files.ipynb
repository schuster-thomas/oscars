{
 "cells": [
  {
   "cell_type": "code",
   "execution_count": 1,
   "metadata": {},
   "outputs": [],
   "source": [
    "import pandas as pd\n",
    "import qgrid"
   ]
  },
  {
   "cell_type": "code",
   "execution_count": 5,
   "metadata": {},
   "outputs": [],
   "source": [
    "df_Oscar = pd.read_excel('IMDB_data_Oscar.xlsx')\n",
    "df_Globe = pd.read_excel('IMDB_data_GoldenGlobe.xlsx')\n",
    "df_Bafta = pd.read_excel('IMDB_data_BAFTA.xlsx')\n",
    "df_CriticsChoice = pd.read_excel('IMDB_data_CriticsChoice.xlsx')\n",
    "df_PGA = pd.read_excel('IMDB_data_PGA.xlsx')\n",
    "df_DGA = pd.read_excel('IMDB_data_DGA.xlsx')\n",
    "df_WGA = pd.read_excel('IMDB_data_WGA.xlsx')\n",
    "df_SAG = pd.read_excel('IMDB_data_SAG.xlsx')\n",
    "df_Eddie = pd.read_excel('IMDB_data_Eddie.xlsx')"
   ]
  },
  {
   "cell_type": "code",
   "execution_count": 6,
   "metadata": {},
   "outputs": [
    {
     "data": {
      "application/vnd.jupyter.widget-view+json": {
       "model_id": "d61d5b0e99f5486aa914df6c69b32144",
       "version_major": 2,
       "version_minor": 0
      },
      "text/plain": [
       "QgridWidget(grid_options={'fullWidthRows': True, 'syncColumnCellResize': True, 'forceFitColumns': True, 'defau…"
      ]
     },
     "metadata": {},
     "output_type": "display_data"
    }
   ],
   "source": [
    "frames = [df_Oscar, df_Globe, df_Bafta, df_CriticsChoice, df_PGA, df_DGA, df_WGA, df_SAG, df_Eddie]\n",
    "df = pd.concat(frames)\n",
    "\n",
    "qgrid.show_grid(df)"
   ]
  },
  {
   "cell_type": "code",
   "execution_count": 7,
   "metadata": {},
   "outputs": [],
   "source": [
    "df.to_excel('IMDB_data__all_awards.xlsx')"
   ]
  }
 ],
 "metadata": {
  "kernelspec": {
   "display_name": "Python 3",
   "language": "python",
   "name": "python3"
  },
  "language_info": {
   "codemirror_mode": {
    "name": "ipython",
    "version": 3
   },
   "file_extension": ".py",
   "mimetype": "text/x-python",
   "name": "python",
   "nbconvert_exporter": "python",
   "pygments_lexer": "ipython3",
   "version": "3.7.4"
  }
 },
 "nbformat": 4,
 "nbformat_minor": 4
}
