{
 "cells": [
  {
   "cell_type": "code",
   "execution_count": 7,
   "metadata": {},
   "outputs": [],
   "source": [
    "from selenium import webdriver\n",
    "import pandas as pd\n",
    "from bs4 import BeautifulSoup\n",
    "from webdriver_manager.chrome import ChromeDriverManager"
   ]
  },
  {
   "cell_type": "markdown",
   "metadata": {},
   "source": [
    "<h3>function that scraps award nominee / winner information from imdb</h3>"
   ]
  },
  {
   "cell_type": "code",
   "execution_count": 38,
   "metadata": {},
   "outputs": [],
   "source": [
    "def scrap_imdb(award_link, award_name, first_year, last_year, award_name_out, filename):\n",
    "\n",
    "    options = webdriver.ChromeOptions()\n",
    "    options.add_argument('--lang=en')\n",
    "    driver = webdriver.Chrome(ChromeDriverManager().install(), options=options)\n",
    "\n",
    "\n",
    "    #für jedes Jahr alle Nominierten und Gewinner auslesen\n",
    "    years=[] #years of the shows\n",
    "    categories=[] #List of all award categories\n",
    "    movies=[] #list of all movies\n",
    "    names=[] #list of all nominee names\n",
    "    winners=[] #winner 0/1\n",
    "    movie_links=[] #imdb link of movie used as unique id for merging\n",
    "    name_links=[] #imdb link of person / used as unique id for merging\n",
    "\n",
    "\n",
    "    for year in range(first_year, last_year + 1):\n",
    "\n",
    "        #some award shows happened twice in a year\n",
    "        if (award_name == 'Critics Choice Award') & (year == 2017):\n",
    "            driver.get(award_link + str(year-1) + '/2')\n",
    "            \n",
    "        else: \n",
    "            driver.get(award_link + str(year))   \n",
    "            \n",
    "        content = driver.page_source\n",
    "        soup = BeautifulSoup(content)  \n",
    "\n",
    "\n",
    "        for award in soup.findAll('div', attrs={'class':'event-widgets__award'}):\n",
    "\n",
    "            nam = award.find('div', attrs={'class':'event-widgets__award-name'}) \n",
    "\n",
    "            if nam != None:\n",
    "                if nam.text != award_name: continue\n",
    "\n",
    "            else: continue\n",
    "\n",
    "\n",
    "            for cat in award.findAll('div', attrs={'class':'event-widgets__award-category'}):   #,href=True   \n",
    "\n",
    "                nam = cat.find('div', attrs={'class':'event-widgets__award-category-name'})    \n",
    "                if nam != None:\n",
    "                    category = nam.text   \n",
    "\n",
    "\n",
    "                for nom in cat.findAll('div', attrs={'class':'event-widgets__award-nomination'}):\n",
    "\n",
    "                    categories.append(category)\n",
    "\n",
    "                    years.append(year)\n",
    "\n",
    "\n",
    "                    win = nom.find('div', attrs={'class':'event-widgets__winner-badge'})\n",
    "\n",
    "                    if win != None:      \n",
    "                        winner = 1\n",
    "                    else:\n",
    "                        winner = 0\n",
    "\n",
    "                    winners.append(winner)\n",
    "\n",
    "\n",
    "                    #Primary = Name des Schauspielers oder Films\n",
    "                    pri = nom.find('div', attrs={'class':'event-widgets__primary-nominees'}) \n",
    "                    pri_link = ''\n",
    "\n",
    "                    if pri != None:\n",
    "                        pri_text = pri.text\n",
    "\n",
    "                        for a in pri.findAll('a', href=True):                    \n",
    "                            pri_link = pri_link + (\", \" if len(pri_link) > 0 else \"\") + a['href'].replace('/?ref_=ev_nom','')                                           \n",
    "\n",
    "                    else:\n",
    "                        pri_text = ''\n",
    "\n",
    "                    links.append(pri_link)\n",
    "\n",
    "\n",
    "                    #Der Film wenn Primary = Schauspieler\n",
    "                    seco = nom.find('div', attrs={'class':'event-widgets__secondary-nominees'})\n",
    "                    seco_link = ''\n",
    "\n",
    "                    if seco != None:\n",
    "                        seco_text = seco.text\n",
    "\n",
    "                        for a in seco.findAll('a', href=True):                    \n",
    "                            seco_link = seco_link + (\", \" if len(seco_link) > 0 else \"\") + a['href'].replace('/?ref_=ev_nom','') \n",
    "\n",
    "                    else:\n",
    "                        seco_text = ''\n",
    "\n",
    "\n",
    "                    #if 'Actor' in category or 'Actress' in category or 'Director' in category or 'Directing' in category or (year == 2020 and 'Film Editing' in category):\n",
    "\n",
    "                    if pri_link.startswith('/title'):\n",
    "                        movies.append(pri_text)\n",
    "                        names.append(seco_text)\n",
    "\n",
    "                        movie_links.append(pri_link)\n",
    "                        name_links.append(seco_link)\n",
    "\n",
    "                    else:                \n",
    "                        movies.append(seco_text)\n",
    "                        names.append(pri_text)\n",
    "\n",
    "                        movie_links.append(seco_link)\n",
    "                        name_links.append(pri_link)\n",
    "\n",
    "\n",
    "    df = pd.DataFrame({'Award': award_name_out, 'Year': years, 'Category':categories, 'Movie': movies, 'Name': names, 'Winner':winners, 'Link_Movie': movie_links, 'Link_Name': name_links})\n",
    "    \n",
    "    df.to_excel(filename)"
   ]
  },
  {
   "cell_type": "markdown",
   "metadata": {},
   "source": [
    "<h3>Download Oscar</h3>"
   ]
  },
  {
   "cell_type": "code",
   "execution_count": 26,
   "metadata": {},
   "outputs": [
    {
     "name": "stdout",
     "output_type": "stream",
     "text": [
      "\n",
      "Looking for [chromedriver 87.0.4280.88 win32] driver in cache \n",
      "File found in cache by path [C:\\Users\\tssch\\.wdm\\drivers\\chromedriver\\87.0.4280.88\\win32\\chromedriver.exe]\n"
     ]
    }
   ],
   "source": [
    "scrap_imdb('https://www.imdb.com/event/ev0000003/', 'Oscar', 1929, 2020, 'Oscar', 'IMDB_data_Oscar.xlsx')"
   ]
  },
  {
   "cell_type": "markdown",
   "metadata": {},
   "source": [
    "<h3>Download Golden Globe</h3>"
   ]
  },
  {
   "cell_type": "code",
   "execution_count": 27,
   "metadata": {},
   "outputs": [
    {
     "name": "stdout",
     "output_type": "stream",
     "text": [
      "\n",
      "Looking for [chromedriver 87.0.4280.88 win32] driver in cache \n",
      "File found in cache by path [C:\\Users\\tssch\\.wdm\\drivers\\chromedriver\\87.0.4280.88\\win32\\chromedriver.exe]\n"
     ]
    }
   ],
   "source": [
    "scrap_imdb('https://www.imdb.com/event/ev0000292/', 'Golden Globe', 1944, 2020, 'Golden Globe', 'IMDB_data_GoldenGlobe.xlsx')"
   ]
  },
  {
   "cell_type": "markdown",
   "metadata": {},
   "source": [
    "<h3>Download SAG Award</h3>"
   ]
  },
  {
   "cell_type": "code",
   "execution_count": 30,
   "metadata": {},
   "outputs": [
    {
     "name": "stdout",
     "output_type": "stream",
     "text": [
      "\n",
      "Looking for [chromedriver 87.0.4280.88 win32] driver in cache \n",
      "File found in cache by path [C:\\Users\\tssch\\.wdm\\drivers\\chromedriver\\87.0.4280.88\\win32\\chromedriver.exe]\n"
     ]
    }
   ],
   "source": [
    "scrap_imdb('https://www.imdb.com/event/ev0000598/', 'Actor', 1995, 2020, 'SAG Award', 'IMDB_data_SAG.xlsx')"
   ]
  },
  {
   "cell_type": "markdown",
   "metadata": {},
   "source": [
    "<h3>Download Critics Choice Award</h3>"
   ]
  },
  {
   "cell_type": "code",
   "execution_count": 39,
   "metadata": {},
   "outputs": [
    {
     "name": "stdout",
     "output_type": "stream",
     "text": [
      "\n",
      "Looking for [chromedriver 87.0.4280.88 win32] driver in cache \n",
      "File found in cache by path [C:\\Users\\tssch\\.wdm\\drivers\\chromedriver\\87.0.4280.88\\win32\\chromedriver.exe]\n"
     ]
    }
   ],
   "source": [
    "scrap_imdb('https://www.imdb.com/event/ev0000133/', 'Critics Choice Award', 1996, 2020, 'Critics Choice Award', 'IMDB_data_CriticsChoice.xlsx')"
   ]
  },
  {
   "cell_type": "markdown",
   "metadata": {},
   "source": [
    "<h3>Download BAFTA</h3>"
   ]
  },
  {
   "cell_type": "code",
   "execution_count": 40,
   "metadata": {},
   "outputs": [
    {
     "name": "stdout",
     "output_type": "stream",
     "text": [
      "\n",
      "Looking for [chromedriver 87.0.4280.88 win32] driver in cache \n",
      "File found in cache by path [C:\\Users\\tssch\\.wdm\\drivers\\chromedriver\\87.0.4280.88\\win32\\chromedriver.exe]\n"
     ]
    }
   ],
   "source": [
    "scrap_imdb('https://www.imdb.com/event/ev0000123/', 'BAFTA Film Award', 1949, 2020, 'BAFTA', 'IMDB_data_BAFTA.xlsx')"
   ]
  },
  {
   "cell_type": "markdown",
   "metadata": {},
   "source": [
    "<h3>Download DGA Award</h3>"
   ]
  },
  {
   "cell_type": "code",
   "execution_count": 41,
   "metadata": {},
   "outputs": [
    {
     "name": "stdout",
     "output_type": "stream",
     "text": [
      "\n",
      "Looking for [chromedriver 87.0.4280.88 win32] driver in cache \n",
      "File found in cache by path [C:\\Users\\tssch\\.wdm\\drivers\\chromedriver\\87.0.4280.88\\win32\\chromedriver.exe]\n"
     ]
    }
   ],
   "source": [
    "scrap_imdb('https://www.imdb.com/event/ev0000212/', 'DGA Award', 1949, 2020, 'DGA Award', 'IMDB_data_DGA.xlsx')"
   ]
  },
  {
   "cell_type": "markdown",
   "metadata": {},
   "source": [
    "<h3>Download PGA Award</h3>"
   ]
  },
  {
   "cell_type": "code",
   "execution_count": 42,
   "metadata": {},
   "outputs": [
    {
     "name": "stdout",
     "output_type": "stream",
     "text": [
      "\n",
      "Looking for [chromedriver 87.0.4280.88 win32] driver in cache \n",
      "File found in cache by path [C:\\Users\\tssch\\.wdm\\drivers\\chromedriver\\87.0.4280.88\\win32\\chromedriver.exe]\n"
     ]
    }
   ],
   "source": [
    "scrap_imdb('https://www.imdb.com/event/ev0000531/', 'PGA Award', 1990, 2020, 'PGA Award', 'IMDB_data_PGA.xlsx')"
   ]
  },
  {
   "cell_type": "markdown",
   "metadata": {},
   "source": [
    "<h3>Download WGA Award</h3>"
   ]
  },
  {
   "cell_type": "code",
   "execution_count": 43,
   "metadata": {},
   "outputs": [
    {
     "name": "stdout",
     "output_type": "stream",
     "text": [
      "\n",
      "Looking for [chromedriver 87.0.4280.88 win32] driver in cache \n",
      "File found in cache by path [C:\\Users\\tssch\\.wdm\\drivers\\chromedriver\\87.0.4280.88\\win32\\chromedriver.exe]\n"
     ]
    }
   ],
   "source": [
    "scrap_imdb('https://www.imdb.com/event/ev0000710/', 'WGA Award (Screen)', 1949, 2020, 'WGA Award', 'IMDB_data_WGA.xlsx')"
   ]
  },
  {
   "cell_type": "markdown",
   "metadata": {},
   "source": [
    "<h3>Download Eddie (Editors Guild)</h3>"
   ]
  },
  {
   "cell_type": "code",
   "execution_count": 44,
   "metadata": {},
   "outputs": [
    {
     "name": "stdout",
     "output_type": "stream",
     "text": [
      "\n",
      "Looking for [chromedriver 87.0.4280.88 win32] driver in cache \n",
      "File found in cache by path [C:\\Users\\tssch\\.wdm\\drivers\\chromedriver\\87.0.4280.88\\win32\\chromedriver.exe]\n"
     ]
    }
   ],
   "source": [
    "scrap_imdb('https://www.imdb.com/event/ev0000017/', 'Eddie', 1962, 2020, 'Eddie', 'IMDB_data_Eddie.xlsx')"
   ]
  }
 ],
 "metadata": {
  "kernelspec": {
   "display_name": "Python 3",
   "language": "python",
   "name": "python3"
  },
  "language_info": {
   "codemirror_mode": {
    "name": "ipython",
    "version": 3
   },
   "file_extension": ".py",
   "mimetype": "text/x-python",
   "name": "python",
   "nbconvert_exporter": "python",
   "pygments_lexer": "ipython3",
   "version": "3.7.4"
  }
 },
 "nbformat": 4,
 "nbformat_minor": 4
}
